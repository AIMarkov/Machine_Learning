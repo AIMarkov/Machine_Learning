{
 "cells": [
  {
   "cell_type": "markdown",
   "metadata": {},
   "source": [
    "# （二） 线性回归 linear regression"
   ]
  },
  {
   "cell_type": "markdown",
   "metadata": {},
   "source": [
    "线性回归是利用数理统计中回归分析，来确定两种或两种以上变量间相互依赖的定量关系的一种统计分析方法.**可用于预测和相关性分析(即“因子分析”,因子分析是根据回归分析结果，得出各个自变量对目标变量产生的影响，因此，需要求出各个自变量的影响程度)**.回归分析中，只包括一个自变量和一个因变量，且二者的关系可用一条直线近似表示，这种回归分析称为**一元线性回归分析**.如果回归分析中包括两个或两个以上的自变量，且因变量和自变量之间是线性关系，则称为**多元线性回归分析**."
   ]
  },
  {
   "cell_type": "markdown",
   "metadata": {},
   "source": [
    "$$f(x)=w_1x_1+w_2x_2+...+w_nx_n+b$$"
   ]
  },
  {
   "cell_type": "markdown",
   "metadata": {},
   "source": [
    "其向量表达形式为$f(x) = wx+b$，这里$x$表示样本，$x_1,x_2,x_3...$表示属性"
   ]
  },
  {
   "cell_type": "markdown",
   "metadata": {},
   "source": [
    "### 性能度量"
   ]
  },
  {
   "cell_type": "markdown",
   "metadata": {},
   "source": [
    "**均方误差(square loss)**$$\\sum_{i=1}^m(f(x_i)-y_i)^2=\\sum_{i=1}^m(y_i-wx_i-b)^2$$这里m示样本数量,$x_i$表示样本$i$,然后$x_{i1},x_{i,2},x_{i,3}...$表示其特征"
   ]
  },
  {
   "cell_type": "markdown",
   "metadata": {},
   "source": [
    "### 一元线性回归"
   ]
  },
  {
   "cell_type": "markdown",
   "metadata": {},
   "source": [
    "原始模型$x_i=(x_{i1}),w=(w),y=(y_1,y_2,...,y_m):$$$f(x_i)=wx_{i1}+b$$"
   ]
  },
  {
   "cell_type": "markdown",
   "metadata": {},
   "source": [
    "目标函数：$$argmin_{(w,b)}E_{w,b}=\\sum_{i=1}^{m}(y_i-wx_{i1}-b)^2$$"
   ]
  },
  {
   "cell_type": "markdown",
   "metadata": {},
   "source": [
    "### 多元线性回归"
   ]
  },
  {
   "cell_type": "markdown",
   "metadata": {},
   "source": [
    "原始模型$x_i=(x_{i1},x_{i2},...,x_{in})$,$w=(w_1,w_2,...,w_n)$,这里为了方便我们使用$x_i=(x_{i1},x_{i2},...,x_{in},1)$,$w=(w_1,w_2,...,w_n,b)$将$b$一起包含在权重矩阵中,模型为$:$ $$f(x_i)=W^TX$$其中$X=\\begin{pmatrix}\n",
    " x_1& \\\\ \n",
    " x_2& \\\\\n",
    " ...&\\\\\n",
    " x_m&\\\\\n",
    " 1&\n",
    "\\end{pmatrix}$表示整个数据集,$y=X=\\begin{pmatrix}\n",
    " y_1& \\\\ \n",
    " y_2& \\\\\n",
    " ...&\\\\\n",
    " y_m&\n",
    "\\end{pmatrix} $,$W=\\begin{pmatrix}\n",
    " w_1& \\\\ \n",
    " w_2& \\\\\n",
    " ...&\\\\\n",
    " w_m&\\\\\n",
    " 1&\n",
    "\\end{pmatrix}$"
   ]
  },
  {
   "cell_type": "markdown",
   "metadata": {},
   "source": [
    "目标函数：$$argmin_{W}E_W=(y-XW)^T(y-XW)$$为什么这里示转置乘原型，这是因为最终惩乘出来是一个值，求了和的."
   ]
  },
  {
   "cell_type": "markdown",
   "metadata": {},
   "source": [
    "# 求解"
   ]
  },
  {
   "cell_type": "markdown",
   "metadata": {},
   "source": [
    "### 最小二乘法（为甚么叫最小二乘：因为是平方和最小化）:求解$E_{w,b}=\\sum_{i=1}^{m}(y_i-wx_{i1}-b)^2$最小化过程称为线性回归的最小二乘法."
   ]
  },
  {
   "cell_type": "markdown",
   "metadata": {},
   "source": [
    "##### 一元线性："
   ]
  },
  {
   "cell_type": "markdown",
   "metadata": {},
   "source": [
    "目标函数是关于$w$和$b$的凸函数,凸函数:对于区间[a,b]上定义的$f(x)$满足$f(\\frac{x_1+x_2}{2})\\leqslant \\frac{f(x_1)+f(x_2)}{2}$则称$f(x)$为凸函数"
   ]
  },
  {
   "cell_type": "markdown",
   "metadata": {},
   "source": [
    "凸函数求最值，就是求导,因此将目标函数分别对$w$和$b$求导:$$\\frac{\\partial E}{\\partial w}=\\sum_{i=1}^m2(-x_{i1})(y_i-wx_{i1}-b)=\\sum_{i=1}^m2(wx_{i1}^2-(y_i-b)x_{i1})=2(w\\sum_{i=1}^mx_{i1}^2-\\sum_{i=1}^m(y_i-b)x_{i1})$$"
   ]
  },
  {
   "cell_type": "markdown",
   "metadata": {},
   "source": [
    "$$\\frac{\\partial E}{\\partial b}=\\sum_{i=1}^m2(-1)(y_i-wx_{i1}-b)=2(mb-\\sum_{i=1}^{m}(y_i-wx_{i1}))$$"
   ]
  },
  {
   "cell_type": "markdown",
   "metadata": {},
   "source": [
    "可以解得$$b=\\frac{1}{m}\\sum_{i=1}^{m}(y_i-wx_{i1})=y^--wx^-$$"
   ]
  },
  {
   "cell_type": "markdown",
   "metadata": {},
   "source": [
    "$$w=\\frac{\\sum_{i=1}^{m}(y_i-b)x_{i1}}{\\sum_{i=1}^{m}x_{i1}^2}=\\frac{\\sum_{i=1}^{m}(y_i-\\frac{1}{m}\\sum_{i=1}^{m}(y_i-wx_{i1}))x_{i1}}{\\sum_{i=1}^{m}x_{i1}^2}$$"
   ]
  },
  {
   "cell_type": "markdown",
   "metadata": {},
   "source": [
    "$$w=\\frac{\\sum_{i=1}^{m}y_i(x_{i1}-x^-)}{\\sum_{i=1}^{m}x_i^2-\\frac{1}{m}(\\sum_{i=1}^{m}x_{i1})^2}$$"
   ]
  },
  {
   "cell_type": "markdown",
   "metadata": {},
   "source": [
    "这里$y^-$和$x^-$表示均值"
   ]
  },
  {
   "cell_type": "markdown",
   "metadata": {},
   "source": [
    "##### 多元线性："
   ]
  },
  {
   "cell_type": "markdown",
   "metadata": {},
   "source": [
    "由于$w$和$b$的合并所以求导只用对$W$求导可得"
   ]
  },
  {
   "cell_type": "markdown",
   "metadata": {},
   "source": [
    "$$\\frac{\\partial E}{\\partial W}=2X^T(XW-y)$$"
   ]
  },
  {
   "cell_type": "markdown",
   "metadata": {},
   "source": [
    "$$W=(X^TX)^{-1}X^Ty$$"
   ]
  },
  {
   "cell_type": "markdown",
   "metadata": {},
   "source": [
    "但是现实任务中$(X^TX)$往往不是满秩矩阵,即使满秩也可能不是方阵，因此可能没有逆矩阵（设$A$是$n$阶矩阵, 若$r(A) = n$, 则称$A$为满秩矩阵。但满秩不局限于$n$阶矩阵。\n",
    "若矩阵秩等于行数，称为行满秩；若矩阵秩等于列数，称为列满秩。既是行满秩又是列满秩则为$n$阶矩阵即$n$阶方阵。行满秩矩阵就是行向量线性无关，列满秩矩阵就是列向量线性无关；所以如果是方阵,行满秩矩阵与列满秩矩阵是等价的.见**工程数学新线性代数第六版矩阵初等变换与线性方程组**）（一个n阶方阵A称为可逆的，或非奇异的，如果存在一个n阶方阵B，使得$BA=E$\n",
    "则称B是A的一个逆矩阵。）"
   ]
  },
  {
   "cell_type": "markdown",
   "metadata": {},
   "source": [
    "### 最小二乘法概率学原理"
   ]
  },
  {
   "cell_type": "markdown",
   "metadata": {},
   "source": [
    "以一元线性回归，从概率学角度说明为甚么要最小化平方差项。首先要了解最大似然估计。我们假设有$x_1,x_2,x_3,..,x_m$个样本，对应真实值为$y_1,y_2,y_3,..,y_m$。那么对于模型$y=wx_{i1}+b$，其不一定就能完全拟合数据，所以改写为$y_i=wx_{i1}+b+\\epsilon_i$其中$\\epsilon_i\\sim N(0,\\sigma^2)$,$\\sigma$是不依赖于$x_{i1}$.这里的$\\epsilon$相当于是一个正太分布的误差项，各个$\\epsilon$之间相互独立.\n"
   ]
  },
  {
   "cell_type": "markdown",
   "metadata": {},
   "source": [
    "那么就有$$y_i\\sim N(wx_{i1}+b,\\sigma^2)$$,于是根据最大释然估计，我们可以得到联合概率分布的似然函数：\n",
    "$$L=\\prod_{i=1}^mP(y_i)=\\prod_{i=1}^m \\frac{1}{\\sigma\\sqrt{2\\pi}}exp[-\\frac{1}{2\\sigma^2}(y_i-wx_{i1}-b)^2]$$"
   ]
  },
  {
   "cell_type": "markdown",
   "metadata": {},
   "source": [
    "对数似然函数为：$$log(L)=\\sum_{i=1}^{m}[log(\\frac{1}{\\sigma\\sqrt(2\\pi)})-\\frac{1}{2\\sigma^2}(y_i-wx_{i1}-b)^2]$$"
   ]
  },
  {
   "cell_type": "markdown",
   "metadata": {},
   "source": [
    "根据最大释然估计，我们希望联合概率最大化，所以，这里我们对对数似然函数求最值，由于除了平方项都是常量，因此我们只用对平方项$\\sum_{i=1}^{m}(y_i-wx_{i1}-b)^2$求最小值，这就是其概率学原理。"
   ]
  },
  {
   "cell_type": "markdown",
   "metadata": {},
   "source": [
    "### 梯度下降法求解"
   ]
  },
  {
   "cell_type": "markdown",
   "metadata": {},
   "source": [
    "批量梯度下降：$$w=w+\\alpha\\sum_{i=1}^{m}(y_i-wx_{i1}-b)x_{i1}$$ 优点：得到全局最优解\n",
    "，缺点：当样本数目很多时，训练过程会很慢"
   ]
  },
  {
   "cell_type": "markdown",
   "metadata": {},
   "source": [
    "随机梯度下降:每次更新只选取一个样本来进行更新，优点：训练速度快，\n",
    "缺点：准确度下降，可能跳出最优解，不是全局最优"
   ]
  },
  {
   "cell_type": "markdown",
   "metadata": {},
   "source": [
    "小批量梯度下降:小批量梯度下降法是批量梯度下降法和随机梯度下降法的折衷，每次取一定数量的样本进行迭代更新"
   ]
  },
  {
   "cell_type": "markdown",
   "metadata": {},
   "source": [
    "## 结合正则项的线性回归"
   ]
  },
  {
   "cell_type": "markdown",
   "metadata": {},
   "source": [
    "使用正则项：$$E_{w,b}=\\sum_{i=1}^{m}(y_i-wx_{i1}-b)^2+\\lambda \\sum_{i=1}^n|w_i|^k$$"
   ]
  },
  {
   "cell_type": "markdown",
   "metadata": {},
   "source": [
    "当$k=1$时为L1正则称为lasso回归，当$k=2$时为L2正则称为Ridge（岭回归）回归，也可以L1和L2正则化同时使用"
   ]
  },
  {
   "cell_type": "markdown",
   "metadata": {},
   "source": [
    "### 为甚要加入正则项"
   ]
  },
  {
   "cell_type": "markdown",
   "metadata": {},
   "source": [
    "##### 高维数据\n",
    "高维数据指数据的维度很高，甚至远大于样本量的个数。高维数据的明显的表现是：在空间中数据是非常稀疏的，与空间的维数相比样本量总是显得非常少。在分析高维数据过程中碰到最大的问题就是维数的膨胀，也就是通常所说的“维数灾难”问题。研究表明，随着维数的增长，分析所需的空间样本数会呈指数增长。换言之，当样本量确定时，数据空间维度由增加则样本密度将会降低，从而样本呈稀疏状态。假设样本量n=12,单个维度宽度为3，那在一维空间下，样本密度为12/3=4，在二维空间下，样本分布空间大小为$3\\times3$，则样本密度为$12/9=1.33$，在三维空间下样本密度为$12/27=0.44$。 \n"
   ]
  },
  {
   "cell_type": "markdown",
   "metadata": {},
   "source": [
    "###### 带来的问题：\n",
    "   1.需要更多的样本，而且样本随着数据维度的增加呈指数型增长；\n",
    "   2.数据变得更稀疏，导致数据灾难；\n",
    "   3.在高维数据空间，预测将变得不再容易；\n",
    "   4.导致模型过拟合（过拟合原因是因为数据，空间维度大，样本稀疏不能代表总体，因此即使**模型在样本上拟合很好，但是泛化能力很差，因此叫过拟合**）\n"
   ]
  },
  {
   "cell_type": "markdown",
   "metadata": {},
   "source": [
    "##### 解决方法"
   ]
  },
  {
   "cell_type": "markdown",
   "metadata": {},
   "source": [
    "1.增加样本数量；2.降低数据维度；"
   ]
  },
  {
   "cell_type": "markdown",
   "metadata": {},
   "source": [
    "增加样本数量可能不太实际，数据降维一般使用PCA，但是PCA要求主成分分析法只适用于数据空间维度小于样本量的情况，当数据空间维度很高时，将不再适用."
   ]
  },
  {
   "cell_type": "markdown",
   "metadata": {},
   "source": [
    "3.加入正则化项；解释：可以无论是L1或是L2都是参数（特征权重）的和的形式（L1取绝对值），最小化正则化损失函数时，正则项也最小化了，这样就可以保证参数（特征权重）最小化，可能部分较小参数就可能被压缩为0，这样也可以间接降低维度。根据李航统计学习的解释：正则化项作用是选择经验风险与模型复杂度同时较小的模型."
   ]
  },
  {
   "cell_type": "markdown",
   "metadata": {},
   "source": [
    "## 例子"
   ]
  },
  {
   "cell_type": "code",
   "execution_count": 1,
   "metadata": {},
   "outputs": [],
   "source": [
    "import pandas as pd"
   ]
  },
  {
   "cell_type": "code",
   "execution_count": 2,
   "metadata": {},
   "outputs": [
    {
     "data": {
      "text/plain": [
       "{'HGH', 'LW', 'MN', 'TOT', 'WMN'}"
      ]
     },
     "execution_count": 2,
     "metadata": {},
     "output_type": "execute_result"
    }
   ],
   "source": [
    "oecd_bli=pd.read_csv(\"lifesat/oecd_bli_2015.csv\",thousands=\",\")\n",
    "oecd_bli.head()\n",
    "set(oecd_bli[\"Indicator\"])#看看指标总共有多少项，然后选取我们需要的Life satisfaction\n",
    "set(oecd_bli[\"INEQUALITY\"])"
   ]
  },
  {
   "cell_type": "code",
   "execution_count": 3,
   "metadata": {},
   "outputs": [],
   "source": [
    "oecd_bli=oecd_bli[oecd_bli[\"INEQUALITY\"]==\"TOT\"]\n",
    "oecd_bli=oecd_bli.pivot(index=\"Country\",columns=\"Indicator\",values=\"Value\")#指定哪列为列名，指定哪列为行名，指定值为哪个列的值\n",
    "#oecd_bli[\"Life satisfaction\"]\n"
   ]
  },
  {
   "cell_type": "code",
   "execution_count": 4,
   "metadata": {},
   "outputs": [
    {
     "data": {
      "text/html": [
       "<div>\n",
       "<style scoped>\n",
       "    .dataframe tbody tr th:only-of-type {\n",
       "        vertical-align: middle;\n",
       "    }\n",
       "\n",
       "    .dataframe tbody tr th {\n",
       "        vertical-align: top;\n",
       "    }\n",
       "\n",
       "    .dataframe thead th {\n",
       "        text-align: right;\n",
       "    }\n",
       "</style>\n",
       "<table border=\"1\" class=\"dataframe\">\n",
       "  <thead>\n",
       "    <tr style=\"text-align: right;\">\n",
       "      <th></th>\n",
       "      <th>Country</th>\n",
       "      <th>Subject Descriptor</th>\n",
       "      <th>Units</th>\n",
       "      <th>Scale</th>\n",
       "      <th>Country/Series-specific Notes</th>\n",
       "      <th>2015</th>\n",
       "      <th>Estimates Start After</th>\n",
       "    </tr>\n",
       "  </thead>\n",
       "  <tbody>\n",
       "    <tr>\n",
       "      <th>0</th>\n",
       "      <td>Afghanistan</td>\n",
       "      <td>Gross domestic product per capita, current prices</td>\n",
       "      <td>U.S. dollars</td>\n",
       "      <td>Units</td>\n",
       "      <td>See notes for:  Gross domestic product, curren...</td>\n",
       "      <td>599.994</td>\n",
       "      <td>2013.0</td>\n",
       "    </tr>\n",
       "    <tr>\n",
       "      <th>1</th>\n",
       "      <td>Albania</td>\n",
       "      <td>Gross domestic product per capita, current prices</td>\n",
       "      <td>U.S. dollars</td>\n",
       "      <td>Units</td>\n",
       "      <td>See notes for:  Gross domestic product, curren...</td>\n",
       "      <td>3995.383</td>\n",
       "      <td>2010.0</td>\n",
       "    </tr>\n",
       "    <tr>\n",
       "      <th>2</th>\n",
       "      <td>Algeria</td>\n",
       "      <td>Gross domestic product per capita, current prices</td>\n",
       "      <td>U.S. dollars</td>\n",
       "      <td>Units</td>\n",
       "      <td>See notes for:  Gross domestic product, curren...</td>\n",
       "      <td>4318.135</td>\n",
       "      <td>2014.0</td>\n",
       "    </tr>\n",
       "    <tr>\n",
       "      <th>3</th>\n",
       "      <td>Angola</td>\n",
       "      <td>Gross domestic product per capita, current prices</td>\n",
       "      <td>U.S. dollars</td>\n",
       "      <td>Units</td>\n",
       "      <td>See notes for:  Gross domestic product, curren...</td>\n",
       "      <td>4100.315</td>\n",
       "      <td>2014.0</td>\n",
       "    </tr>\n",
       "    <tr>\n",
       "      <th>4</th>\n",
       "      <td>Antigua and Barbuda</td>\n",
       "      <td>Gross domestic product per capita, current prices</td>\n",
       "      <td>U.S. dollars</td>\n",
       "      <td>Units</td>\n",
       "      <td>See notes for:  Gross domestic product, curren...</td>\n",
       "      <td>14414.302</td>\n",
       "      <td>2011.0</td>\n",
       "    </tr>\n",
       "  </tbody>\n",
       "</table>\n",
       "</div>"
      ],
      "text/plain": [
       "               Country                                 Subject Descriptor  \\\n",
       "0          Afghanistan  Gross domestic product per capita, current prices   \n",
       "1              Albania  Gross domestic product per capita, current prices   \n",
       "2              Algeria  Gross domestic product per capita, current prices   \n",
       "3               Angola  Gross domestic product per capita, current prices   \n",
       "4  Antigua and Barbuda  Gross domestic product per capita, current prices   \n",
       "\n",
       "          Units  Scale                      Country/Series-specific Notes  \\\n",
       "0  U.S. dollars  Units  See notes for:  Gross domestic product, curren...   \n",
       "1  U.S. dollars  Units  See notes for:  Gross domestic product, curren...   \n",
       "2  U.S. dollars  Units  See notes for:  Gross domestic product, curren...   \n",
       "3  U.S. dollars  Units  See notes for:  Gross domestic product, curren...   \n",
       "4  U.S. dollars  Units  See notes for:  Gross domestic product, curren...   \n",
       "\n",
       "        2015  Estimates Start After  \n",
       "0    599.994                 2013.0  \n",
       "1   3995.383                 2010.0  \n",
       "2   4318.135                 2014.0  \n",
       "3   4100.315                 2014.0  \n",
       "4  14414.302                 2011.0  "
      ]
     },
     "execution_count": 4,
     "metadata": {},
     "output_type": "execute_result"
    }
   ],
   "source": [
    "gdp=pd.read_csv(\"lifesat/gdp_per_capita.csv\",thousands=\",\",delimiter='\\t',encoding=\"latin1\",na_values=\"n/a\")\n",
    "gdp.head()\n",
    "#gdp[\"2015\"]"
   ]
  },
  {
   "cell_type": "code",
   "execution_count": 5,
   "metadata": {},
   "outputs": [
    {
     "data": {
      "text/html": [
       "<div>\n",
       "<style scoped>\n",
       "    .dataframe tbody tr th:only-of-type {\n",
       "        vertical-align: middle;\n",
       "    }\n",
       "\n",
       "    .dataframe tbody tr th {\n",
       "        vertical-align: top;\n",
       "    }\n",
       "\n",
       "    .dataframe thead th {\n",
       "        text-align: right;\n",
       "    }\n",
       "</style>\n",
       "<table border=\"1\" class=\"dataframe\">\n",
       "  <thead>\n",
       "    <tr style=\"text-align: right;\">\n",
       "      <th></th>\n",
       "      <th>Subject Descriptor</th>\n",
       "      <th>Units</th>\n",
       "      <th>Scale</th>\n",
       "      <th>Country/Series-specific Notes</th>\n",
       "      <th>GDP per capital</th>\n",
       "      <th>Estimates Start After</th>\n",
       "    </tr>\n",
       "    <tr>\n",
       "      <th>Country</th>\n",
       "      <th></th>\n",
       "      <th></th>\n",
       "      <th></th>\n",
       "      <th></th>\n",
       "      <th></th>\n",
       "      <th></th>\n",
       "    </tr>\n",
       "  </thead>\n",
       "  <tbody>\n",
       "    <tr>\n",
       "      <th>Afghanistan</th>\n",
       "      <td>Gross domestic product per capita, current prices</td>\n",
       "      <td>U.S. dollars</td>\n",
       "      <td>Units</td>\n",
       "      <td>See notes for:  Gross domestic product, curren...</td>\n",
       "      <td>599.994</td>\n",
       "      <td>2013.0</td>\n",
       "    </tr>\n",
       "    <tr>\n",
       "      <th>Albania</th>\n",
       "      <td>Gross domestic product per capita, current prices</td>\n",
       "      <td>U.S. dollars</td>\n",
       "      <td>Units</td>\n",
       "      <td>See notes for:  Gross domestic product, curren...</td>\n",
       "      <td>3995.383</td>\n",
       "      <td>2010.0</td>\n",
       "    </tr>\n",
       "    <tr>\n",
       "      <th>Algeria</th>\n",
       "      <td>Gross domestic product per capita, current prices</td>\n",
       "      <td>U.S. dollars</td>\n",
       "      <td>Units</td>\n",
       "      <td>See notes for:  Gross domestic product, curren...</td>\n",
       "      <td>4318.135</td>\n",
       "      <td>2014.0</td>\n",
       "    </tr>\n",
       "    <tr>\n",
       "      <th>Angola</th>\n",
       "      <td>Gross domestic product per capita, current prices</td>\n",
       "      <td>U.S. dollars</td>\n",
       "      <td>Units</td>\n",
       "      <td>See notes for:  Gross domestic product, curren...</td>\n",
       "      <td>4100.315</td>\n",
       "      <td>2014.0</td>\n",
       "    </tr>\n",
       "    <tr>\n",
       "      <th>Antigua and Barbuda</th>\n",
       "      <td>Gross domestic product per capita, current prices</td>\n",
       "      <td>U.S. dollars</td>\n",
       "      <td>Units</td>\n",
       "      <td>See notes for:  Gross domestic product, curren...</td>\n",
       "      <td>14414.302</td>\n",
       "      <td>2011.0</td>\n",
       "    </tr>\n",
       "  </tbody>\n",
       "</table>\n",
       "</div>"
      ],
      "text/plain": [
       "                                                    Subject Descriptor  \\\n",
       "Country                                                                  \n",
       "Afghanistan          Gross domestic product per capita, current prices   \n",
       "Albania              Gross domestic product per capita, current prices   \n",
       "Algeria              Gross domestic product per capita, current prices   \n",
       "Angola               Gross domestic product per capita, current prices   \n",
       "Antigua and Barbuda  Gross domestic product per capita, current prices   \n",
       "\n",
       "                            Units  Scale  \\\n",
       "Country                                    \n",
       "Afghanistan          U.S. dollars  Units   \n",
       "Albania              U.S. dollars  Units   \n",
       "Algeria              U.S. dollars  Units   \n",
       "Angola               U.S. dollars  Units   \n",
       "Antigua and Barbuda  U.S. dollars  Units   \n",
       "\n",
       "                                         Country/Series-specific Notes  \\\n",
       "Country                                                                  \n",
       "Afghanistan          See notes for:  Gross domestic product, curren...   \n",
       "Albania              See notes for:  Gross domestic product, curren...   \n",
       "Algeria              See notes for:  Gross domestic product, curren...   \n",
       "Angola               See notes for:  Gross domestic product, curren...   \n",
       "Antigua and Barbuda  See notes for:  Gross domestic product, curren...   \n",
       "\n",
       "                     GDP per capital  Estimates Start After  \n",
       "Country                                                      \n",
       "Afghanistan                  599.994                 2013.0  \n",
       "Albania                     3995.383                 2010.0  \n",
       "Algeria                     4318.135                 2014.0  \n",
       "Angola                      4100.315                 2014.0  \n",
       "Antigua and Barbuda        14414.302                 2011.0  "
      ]
     },
     "execution_count": 5,
     "metadata": {},
     "output_type": "execute_result"
    }
   ],
   "source": [
    "gdp.rename(columns={\"2015\":\"GDP per capital\"},inplace=True)#inplace这个参数是在本地更改，而不用单独输出一个值\n",
    "gdp=gdp.set_index(\"Country\")#设置index为Country\n",
    "gdp.head()"
   ]
  },
  {
   "cell_type": "code",
   "execution_count": 6,
   "metadata": {},
   "outputs": [],
   "source": [
    "merge_data=pd.merge(left=oecd_bli,right=gdp,left_index=True,right_index=True)#合并的两个dataframe必须要有相同的index，一个有另一个没有的会删除\n",
    "#merge_data"
   ]
  },
  {
   "cell_type": "code",
   "execution_count": 7,
   "metadata": {},
   "outputs": [],
   "source": [
    "merge_data[[\"Air pollution\",\"Assault rate\"]].loc[[\"Australia\",\"Korea\"]]#大于两个都要加上[],若一个的化就是直接一个\n",
    "merge_data[[\"Air pollution\",\"Assault rate\"]].iloc[[0,2]]#我们也可以通过数字索引，但是要使用iloc\n",
    "#merge_data[\"Air pollution\"][\"Australia\"]\n",
    "merge_data=merge_data[[\"Life satisfaction\",\"GDP per capital\"]]\n",
    "merge_data.sort_values(by=\"GDP per capital\",inplace=True)#排序然后去掉最大值和最小值，以及差异值\n",
    "merge_data=merge_data[[\"Life satisfaction\",\"GDP per capital\"]].iloc[list(set(range(36)) - set([0, 1, 6, 8, 33, 34, 35]))]#移除一些差异值\n",
    "#merge_data"
   ]
  },
  {
   "cell_type": "code",
   "execution_count": 8,
   "metadata": {},
   "outputs": [
    {
     "data": {
      "text/plain": [
       "<matplotlib.collections.PathCollection at 0x204cc1296d8>"
      ]
     },
     "execution_count": 8,
     "metadata": {},
     "output_type": "execute_result"
    }
   ],
   "source": [
    "import numpy as np\n",
    "import matplotlib.pyplot as pl \n",
    "X=np.asarray(merge_data[\"GDP per capital\"])\n",
    "y=np.asarray(merge_data[\"Life satisfaction\"])\n",
    "X=X.reshape([-1,1])#二维输入\n",
    "y=y.reshape([-1,1])\n",
    "pl.scatter(X,y)"
   ]
  },
  {
   "cell_type": "code",
   "execution_count": 9,
   "metadata": {},
   "outputs": [],
   "source": [
    "#好了数据准备好了，训练一个线性模型\n",
    "import sklearn.linear_model as  LM"
   ]
  },
  {
   "cell_type": "code",
   "execution_count": 10,
   "metadata": {},
   "outputs": [
    {
     "name": "stdout",
     "output_type": "stream",
     "text": [
      "[[5.96242338]]\n"
     ]
    }
   ],
   "source": [
    "model=LM.LinearRegression()\n",
    "model.fit(X,y)\n",
    "X_new = [[22587]]  # Cyprus' GDP per capita\n",
    "print(model.predict(X_new)) # outputs [[ 5.96242338]]"
   ]
  },
  {
   "cell_type": "code",
   "execution_count": 11,
   "metadata": {},
   "outputs": [
    {
     "data": {
      "text/plain": [
       "array([[5.34420726],\n",
       "       [5.83536172],\n",
       "       [6.32651618],\n",
       "       [6.81767064],\n",
       "       [7.30882509]])"
      ]
     },
     "execution_count": 11,
     "metadata": {},
     "output_type": "execute_result"
    }
   ],
   "source": [
    "test_X=[[10000],[20000],[30000],[40000],[50000]]\n",
    "test_Y=model.predict(test_X)\n",
    "test_Y"
   ]
  },
  {
   "cell_type": "code",
   "execution_count": 12,
   "metadata": {},
   "outputs": [
    {
     "data": {
      "image/png": "[encoded data removed]",
      "text/plain": [
       "<Figure size 432x288 with 1 Axes>"
      ]
     },
     "metadata": {
      "needs_background": "light"
     },
     "output_type": "display_data"
    }
   ],
   "source": [
    "pl.plot(test_X,test_Y,\"r\")\n",
    "pl.scatter(X,y)\n",
    "pl.show()"
   ]
  },
  {
   "cell_type": "code",
   "execution_count": 13,
   "metadata": {},
   "outputs": [],
   "source": [
    "#训练一个Ridge模型\n",
    "model1=LM.Ridge(0.6)"
   ]
  },
  {
   "cell_type": "code",
   "execution_count": 14,
   "metadata": {},
   "outputs": [
    {
     "name": "stdout",
     "output_type": "stream",
     "text": [
      "[[5.96242338]]\n"
     ]
    }
   ],
   "source": [
    "model1.fit(X,y)\n",
    "X_new = [[22587]]  # Cyprus' GDP per capita\n",
    "print(model1.predict(X_new)) # outputs [[ 5.96242338]]"
   ]
  },
  {
   "cell_type": "code",
   "execution_count": 15,
   "metadata": {},
   "outputs": [
    {
     "data": {
      "text/plain": [
       "array([[5.34420726],\n",
       "       [5.83536172],\n",
       "       [6.32651618],\n",
       "       [6.81767064],\n",
       "       [7.30882509]])"
      ]
     },
     "execution_count": 15,
     "metadata": {},
     "output_type": "execute_result"
    }
   ],
   "source": [
    "test_X=[[10000],[20000],[30000],[40000],[50000]]\n",
    "test_Y=model1.predict(test_X)\n",
    "test_Y"
   ]
  },
  {
   "cell_type": "code",
   "execution_count": 16,
   "metadata": {},
   "outputs": [
    {
     "data": {
      "image/png": "[encoded data removed]",
      "text/plain": [
       "<Figure size 432x288 with 1 Axes>"
      ]
     },
     "metadata": {
      "needs_background": "light"
     },
     "output_type": "display_data"
    }
   ],
   "source": [
    "pl.plot(test_X,test_Y,\"r\")\n",
    "pl.scatter(X,y)\n",
    "pl.show()"
   ]
  },
  {
   "cell_type": "code",
   "execution_count": 17,
   "metadata": {},
   "outputs": [
    {
     "data": {
      "text/plain": [
       "array([5.96245466])"
      ]
     },
     "execution_count": 17,
     "metadata": {},
     "output_type": "execute_result"
    }
   ],
   "source": [
    "#训练一个Lasso\n",
    "model2=LM.Lasso(alpha=0.6)\n",
    "model2.fit(X,y)\n",
    "X_new=[[22587]]\n",
    "model2.predict(X_new)"
   ]
  },
  {
   "cell_type": "code",
   "execution_count": 18,
   "metadata": {},
   "outputs": [
    {
     "data": {
      "text/plain": [
       "array([5.34427499, 5.83540049, 6.326526  , 6.8176515 , 7.30877701])"
      ]
     },
     "execution_count": 18,
     "metadata": {},
     "output_type": "execute_result"
    }
   ],
   "source": [
    "test_X=[[10000],[20000],[30000],[40000],[50000]]\n",
    "test_Y=model2.predict(test_X)\n",
    "test_Y"
   ]
  },
  {
   "cell_type": "code",
   "execution_count": 19,
   "metadata": {},
   "outputs": [
    {
     "data": {
      "image/png": "[encoded data removed]",
      "text/plain": [
       "<Figure size 432x288 with 1 Axes>"
      ]
     },
     "metadata": {
      "needs_background": "light"
     },
     "output_type": "display_data"
    }
   ],
   "source": [
    "pl.plot(test_X,test_Y,\"r\")\n",
    "pl.scatter(X,y)\n",
    "pl.show()"
   ]
  },
  {
   "cell_type": "code",
   "execution_count": 20,
   "metadata": {},
   "outputs": [],
   "source": [
    "#训练一个Bayesian Ridge Regression"
   ]
  },
  {
   "cell_type": "code",
   "execution_count": 21,
   "metadata": {},
   "outputs": [
    {
     "data": {
      "text/plain": [
       "array([5.96245466])"
      ]
     },
     "execution_count": 21,
     "metadata": {},
     "output_type": "execute_result"
    }
   ],
   "source": [
    "model3=LM.BayesianRidge()\n",
    "model2.fit(X,y)\n",
    "X_new=[[22587]]\n",
    "model2.predict(X_new)"
   ]
  },
  {
   "cell_type": "code",
   "execution_count": 22,
   "metadata": {},
   "outputs": [
    {
     "data": {
      "text/plain": [
       "array([5.34427499, 5.83540049, 6.326526  , 6.8176515 , 7.30877701])"
      ]
     },
     "execution_count": 22,
     "metadata": {},
     "output_type": "execute_result"
    }
   ],
   "source": [
    "test_X=[[10000],[20000],[30000],[40000],[50000]]\n",
    "test_Y=model2.predict(test_X)\n",
    "test_Y"
   ]
  },
  {
   "cell_type": "code",
   "execution_count": 23,
   "metadata": {},
   "outputs": [
    {
     "data": {
      "image/png": "[encoded data removed]",
      "text/plain": [
       "<Figure size 432x288 with 1 Axes>"
      ]
     },
     "metadata": {
      "needs_background": "light"
     },
     "output_type": "display_data"
    }
   ],
   "source": [
    "pl.plot(test_X,test_Y,\"r\")\n",
    "pl.scatter(X,y)\n",
    "pl.show()"
   ]
  }
 ],
 "metadata": {
  "kernelspec": {
   "display_name": "Python 3",
   "language": "python",
   "name": "python3"
  },
  "language_info": {
   "codemirror_mode": {
    "name": "ipython",
    "version": 3
   },
   "file_extension": ".py",
   "mimetype": "text/x-python",
   "name": "python",
   "nbconvert_exporter": "python",
   "pygments_lexer": "ipython3",
   "version": "3.7.1"
  }
 },
 "nbformat": 4,
 "nbformat_minor": 2
}
