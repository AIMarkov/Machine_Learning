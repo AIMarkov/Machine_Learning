{
 "cells": [
  {
   "cell_type": "markdown",
   "metadata": {},
   "source": [
    "# （一）machine learning terminology"
   ]
  },
  {
   "cell_type": "markdown",
   "metadata": {},
   "source": [
    "# 分类器（Classifier）"
   ]
  },
  {
   "cell_type": "markdown",
   "metadata": {},
   "source": [
    "一段程序或一个函数将无标签实例映射到类别，则成称这段程序或这个函数为分类器"
   ]
  },
  {
   "cell_type": "markdown",
   "metadata": {},
   "source": [
    "### 混淆矩阵（Confusion Matrix）"
   ]
  },
  {
   "cell_type": "markdown",
   "metadata": {},
   "source": [
    "用来观察分类器的性能，其中矩阵列标表示实例的预测类别，行标表示实例的真是类别.下图就是一个二分类（binary classification）的混淆矩阵.表示正确预测男性42人，正确预测女性32人，18人被误分类为男性，8人被误分类为女性."
   ]
  },
  {
   "cell_type": "markdown",
   "metadata": {},
   "source": [
    "![pic1](pic1.png)"
   ]
  },
  {
   "cell_type": "markdown",
   "metadata": {},
   "source": [
    "### 准确率 （accuracy（error rate））"
   ]
  },
  {
   "cell_type": "markdown",
   "metadata": {},
   "source": [
    "准确率表示为：$正确预测实例数/实例总数$.上例中准确率是$(42+32)/(42+32+8+18)=0.72$\n"
   ]
  },
  {
   "cell_type": "markdown",
   "metadata": {},
   "source": [
    "#### 准确性悖论（Accuracy paradox）"
   ]
  },
  {
   "cell_type": "markdown",
   "metadata": {},
   "source": [
    "我们假设有如下一个混淆矩阵,它只会预测female，我们可以计算其准确率$(50+0)/(0+50+50+0)=0.5$"
   ]
  },
  {
   "cell_type": "markdown",
   "metadata": {},
   "source": [
    "![pic2](pic2.png)"
   ]
  },
  {
   "cell_type": "markdown",
   "metadata": {},
   "source": [
    "又比如我们有一个垃圾邮件识别分类器，其混淆矩阵如下,所示，其准确率为$(91+4)/(91+4+1+4)=0.95$：![pic3](pic3.png)"
   ]
  },
  {
   "cell_type": "markdown",
   "metadata": {},
   "source": [
    "然后我们有另一个垃圾邮件识别分类器，其混淆矩阵如下所示，其准确率也是$(95+0)/(95+0+0+5)=0.95$。（两者用同样的实例数据）"
   ]
  },
  {
   "cell_type": "markdown",
   "metadata": {},
   "source": [
    "![pic4](pic4.png)\n",
    "虽然准确率都是0.95但是后者没有分类垃圾邮件的能力,因此分类器的好坏单看准确率是不够的，这就是准确性驳论。"
   ]
  },
  {
   "cell_type": "markdown",
   "metadata": {},
   "source": [
    "### 精确率（Precision）和召回率（Recall）"
   ]
  },
  {
   "cell_type": "markdown",
   "metadata": {},
   "source": [
    "![pic5](pic5.png)"
   ]
  },
  {
   "cell_type": "markdown",
   "metadata": {},
   "source": [
    "TP：True Positive TN：True Negative FP：False Positive FN：False Negtive（翻译过来就是真阳性，真阴性，假阳性，假阴性）还是英文好记"
   ]
  },
  {
   "cell_type": "markdown",
   "metadata": {},
   "source": [
    "$$Accuracy：(TN+TP)/(TN+TP+FN+FP)$$\n",
    "$$Precision:(TP)/(TP+FP)$$\n",
    "$$Recall:(TP)/(TP+FN)（也是True\\quad positive\\quad rate）$$\n",
    "$$True\\quad negtive\\quad rate:(TN)/(TN+FP)$$"
   ]
  },
  {
   "cell_type": "markdown",
   "metadata": {},
   "source": [
    "### 多分类的混淆矩阵和准确率，精确率，召回率"
   ]
  },
  {
   "cell_type": "markdown",
   "metadata": {},
   "source": [
    "![pic6](pic6.png)"
   ]
  },
  {
   "cell_type": "markdown",
   "metadata": {},
   "source": [
    "$Acurracy：$$$\\frac{\\sum_i M_{ii}}{\\sum_{ij} Mij}$$"
   ]
  },
  {
   "cell_type": "markdown",
   "metadata": {},
   "source": [
    "$Percision_i：$ $$\\frac{M_{ii}}{\\sum_j M_{ji}}$$"
   ]
  },
  {
   "cell_type": "markdown",
   "metadata": {},
   "source": [
    "$Recall_i：$ $$\\frac{M_{ii}}{\\sum_j M_{ij}}$$"
   ]
  },
  {
   "cell_type": "markdown",
   "metadata": {},
   "source": [
    "上面这个例子中：$$Accuracy=(6+6+8)/(6+2+1+6+1+1+8)=0.8$$  $$percision_{dog}=6/(6+1+1)=0.75$$ \n",
    "                $$percision_{cat}=6/(6+1+2)=0.67$$ $$percision_{snake}=8/(0+0+8)=1 $$"
   ]
  },
  {
   "cell_type": "markdown",
   "metadata": {},
   "source": [
    "$$recall_{dog}=6/(6+2+0)=0.75$$ $$recall_{cat}=6/(6+1+0)=0.86$$  $$recall_{snake}=8/(1+1+8)=0.8$$"
   ]
  },
  {
   "cell_type": "markdown",
   "metadata": {},
   "source": [
    "### Roc曲线"
   ]
  },
  {
   "cell_type": "markdown",
   "metadata": {},
   "source": [
    "$横轴:False positive rate(FPR)表示预测的正例中负例占所有负例的比例：FPR=(FP)/(FP+TN)$\n",
    "$纵轴:True positive rate(TPR)表示预测的正例中正例占所有正例的比例：TPR=(TP)/(TP+FN)$\n",
    "$True negtive rate(TNR)表示预测的负例中负例占所有负例比例：TNR=(TN)/(TN+FP)$\n",
    "$$所以有TNR=1-FPR$$"
   ]
  },
  {
   "cell_type": "markdown",
   "metadata": {},
   "source": [
    "假设采用逻辑回归分类器，其给出针对每个实例为正类的概率，那么通过设定一个阈值$\\theta$，概率大于等于$\\theta$的为正类，小于$\\theta$的为负类.对应的就可以算出一组(FPR,TPR),在平面中得到对应坐标点.随着阈值的逐渐减小，越来越多的实例被划分为正类，但是这些正类中同样也掺杂着真正的负实例，即TPR和FPR会同时增大(前者因为FN减少，后者因为FP增加).阈值最大时，对应坐标点为(0,0),阈值最小时，对应坐标点(1,1)."
   ]
  },
  {
   "cell_type": "markdown",
   "metadata": {},
   "source": [
    "![pic7](pic7.png)"
   ]
  },
  {
   "cell_type": "markdown",
   "metadata": {},
   "source": [
    "AUC(Area under Curve)：Roc曲线下的面积，介于0.1和1之间。**Auc作为数值可以直观的评价分类器的好坏**，值越大越好。AUC就是从所有正样本中随机选择一个样本，从所有负样本中随机选择一个样本，然后根据你的学习器对两个随机样本进行预测，把正样本预测为正例的概率$p_1$，把负样本预测为正例的概率$p_2$，$p_1>p_2$的概率就等于AUC.所以AUC反映的是分类器对样本的排序能力.根据这个解释，如果我们完全随机的对样本分类，那么AUC应该接近0.5."
   ]
  },
  {
   "cell_type": "markdown",
   "metadata": {},
   "source": [
    "### 举个例子"
   ]
  },
  {
   "cell_type": "markdown",
   "metadata": {},
   "source": [
    "现在我们有一个二分类器，20个样本，然后分类结果如下所示."
   ]
  },
  {
   "cell_type": "code",
   "execution_count": 14,
   "metadata": {},
   "outputs": [
    {
     "name": "stdout",
     "output_type": "stream",
     "text": [
      "    class  score\n",
      "0       1  0.900\n",
      "1       1  0.800\n",
      "2      -1  0.700\n",
      "3       1  0.600\n",
      "4       1  0.550\n",
      "5       1  0.540\n",
      "6      -1  0.530\n",
      "7      -1  0.520\n",
      "8       1  0.510\n",
      "9      -1  0.505\n",
      "10      1  0.400\n",
      "11     -1  0.390\n",
      "12      1  0.380\n",
      "13     -1  0.370\n",
      "14     -1  0.360\n",
      "15     -1  0.350\n",
      "16      1  0.340\n",
      "17     -1  0.330\n",
      "18      1  0.300\n",
      "19     -1  0.100\n"
     ]
    }
   ],
   "source": [
    "import pandas as pd\n",
    "#a=pd.Series([1,2,3,5],index=[\"a\",\"b\",\"c\",\"d\"])\n",
    "#print(a)\n",
    "Class=pd.Series([1,1,-1,1,1,1,-1,-1,1,-1,1,-1,1,-1,-1,-1,1,-1,1,-1])\n",
    "Score=pd.Series([0.9,0.8,0.7,0.6,0.55,0.54,0.53,0.52,0.51,0.505,0.4,0.39,0.38,0.37,0.36,0.35,0.34,0.33,0.30,0.1])\n",
    "dt={\"class\":Class,\n",
    "    \"score\":Score\n",
    "   }\n",
    "data=pd.DataFrame(dt)\n",
    "print(data)"
   ]
  },
  {
   "cell_type": "markdown",
   "metadata": {},
   "source": [
    "class表示其真实类别，score表示模型判别其为正类的概率"
   ]
  },
  {
   "cell_type": "code",
   "execution_count": 28,
   "metadata": {},
   "outputs": [
    {
     "name": "stdout",
     "output_type": "stream",
     "text": [
      "min FPR: 0.0\n",
      "min TPR: 0.1\n",
      "max FPR: 1.0\n",
      "max TPR: 1.0\n"
     ]
    }
   ],
   "source": [
    "def FPR(data,threshold):\n",
    "    FP=0\n",
    "    TN=0\n",
    "    for i in range(len(data)):\n",
    "        #print(data.ix[i])\n",
    "        #print(data[\"class\"])\n",
    "        if (data[\"score\"][i]>=threshold)&(data[\"class\"][i]==-1):\n",
    "            FP+=1\n",
    "        if (data[\"score\"][i]<threshold)&(data[\"class\"][i]==-1):\n",
    "            TN+=1\n",
    "    return FP/(FP+TN)\n",
    "def TPR(data,threshold):\n",
    "    TP=0\n",
    "    FN=0\n",
    "    for i in range(len(data)):\n",
    "        if (data[\"score\"][i]>=threshold)&(data[\"class\"][i]==1):\n",
    "            TP+=1\n",
    "        if (data[\"score\"][i]<threshold)&(data[\"class\"][i]==1):\n",
    "            FN+=1\n",
    "    return TP/(TP+FN)\n",
    "            \n",
    "print(\"min FPR:\",FPR(data,0.9))\n",
    "print(\"min TPR:\",TPR(data,0.9))\n",
    "print(\"max FPR:\",FPR(data,0.1))\n",
    "print(\"max TPR:\",TPR(data,0.1))"
   ]
  },
  {
   "cell_type": "code",
   "execution_count": 34,
   "metadata": {},
   "outputs": [
    {
     "data": {
      "image/png": "[encoded data removed]",
      "text/plain": [
       "<Figure size 432x288 with 1 Axes>"
      ]
     },
     "metadata": {
      "needs_background": "light"
     },
     "output_type": "display_data"
    }
   ],
   "source": [
    "from matplotlib import pyplot as pl\n",
    "ROC_FPR=[]\n",
    "ROC_TPR=[]\n",
    "for threshold in data[\"score\"]: \n",
    "    ROC_FPR.append(FPR(data,threshold))\n",
    "    ROC_TPR.append(TPR(data,threshold))\n",
    "pl.plot(ROC_FPR,ROC_TPR)\n",
    "pl.xlabel(\"FPR\")\n",
    "pl.ylabel()\n",
    "pl.show()"
   ]
  },
  {
   "cell_type": "markdown",
   "metadata": {},
   "source": [
    "机器学习分为：监督学习（Supervised learning），无监督学习（Unsupervised learning），半监督学习（Semi-supervised learning），强化学习（Reinforcement learning）"
   ]
  }
 ],
 "metadata": {
  "kernelspec": {
   "display_name": "Python 3",
   "language": "python",
   "name": "python3"
  },
  "language_info": {
   "codemirror_mode": {
    "name": "ipython",
    "version": 3
   },
   "file_extension": ".py",
   "mimetype": "text/x-python",
   "name": "python",
   "nbconvert_exporter": "python",
   "pygments_lexer": "ipython3",
   "version": "3.7.1"
  }
 },
 "nbformat": 4,
 "nbformat_minor": 2
}
